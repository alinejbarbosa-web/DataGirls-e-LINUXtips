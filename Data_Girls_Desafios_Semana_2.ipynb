{
  "nbformat": 4,
  "nbformat_minor": 0,
  "metadata": {
    "colab": {
      "provenance": [],
      "include_colab_link": true
    },
    "kernelspec": {
      "name": "python3",
      "display_name": "Python 3"
    },
    "language_info": {
      "name": "python"
    }
  },
  "cells": [
    {
      "cell_type": "markdown",
      "metadata": {
        "id": "view-in-github",
        "colab_type": "text"
      },
      "source": [
        "<a href=\"https://colab.research.google.com/github/alinejbarbosa-web/DataGirls-e-LINUXtips/blob/main/Data_Girls_Desafios_Semana_2.ipynb\" target=\"_parent\"><img src=\"https://colab.research.google.com/assets/colab-badge.svg\" alt=\"Open In Colab\"/></a>"
      ]
    },
    {
      "cell_type": "markdown",
      "source": [
        "Vamos começar corrigindo os erros abaixo. Faça os 10 códigos abaixo funcionarem"
      ],
      "metadata": {
        "id": "iWLuUCSoRet6"
      }
    },
    {
      "cell_type": "code",
      "execution_count": null,
      "metadata": {
        "id": "nXk3KKk0RVGb",
        "colab": {
          "base_uri": "https://localhost:8080/"
        },
        "outputId": "e83c350f-4633-4bcb-f4ff-9b0e8c44f5a2"
      },
      "outputs": [
        {
          "output_type": "stream",
          "name": "stdout",
          "text": [
            "Katia Santos\n"
          ]
        }
      ],
      "source": [
        "#1\n",
        "nome = \"Katia Santos\"\n",
        "print(nome)"
      ]
    },
    {
      "cell_type": "code",
      "source": [
        "#2\n",
        "\n",
        "print (\"Olá mundo\")"
      ],
      "metadata": {
        "id": "BOXSfoRrRqca",
        "colab": {
          "base_uri": "https://localhost:8080/"
        },
        "outputId": "168be2c9-fded-4429-d600-29c4d8f6b095"
      },
      "execution_count": null,
      "outputs": [
        {
          "output_type": "stream",
          "name": "stdout",
          "text": [
            "Olá mundo\n"
          ]
        }
      ]
    },
    {
      "cell_type": "code",
      "source": [
        "#3\n",
        "\n",
        "idade = \"20\"\n",
        "print(\"Minha idade é \" + idade)"
      ],
      "metadata": {
        "id": "enkXUdWORtAr",
        "colab": {
          "base_uri": "https://localhost:8080/"
        },
        "outputId": "58a39350-2834-4188-b008-2414c2f0b88d"
      },
      "execution_count": null,
      "outputs": [
        {
          "output_type": "stream",
          "name": "stdout",
          "text": [
            "Minha idade é 20\n"
          ]
        }
      ]
    },
    {
      "cell_type": "code",
      "source": [
        "#4\n",
        "\n",
        "if 5 > 2:\n",
        "    print(\"Cinco é maior que dois\")"
      ],
      "metadata": {
        "id": "pFmVMA4eRv6W",
        "colab": {
          "base_uri": "https://localhost:8080/"
        },
        "outputId": "747ad1a7-c51f-4f10-8468-2afd0d263744"
      },
      "execution_count": null,
      "outputs": [
        {
          "output_type": "stream",
          "name": "stdout",
          "text": [
            "Cinco é maior que dois\n"
          ]
        }
      ]
    },
    {
      "cell_type": "code",
      "source": [
        "#5\n",
        "\n",
        "\n",
        "frutas = [\"maçã\", \"banana\", \"uva\"]\n",
        "print(frutas[1])"
      ],
      "metadata": {
        "id": "IgY8i0URRzik",
        "colab": {
          "base_uri": "https://localhost:8080/"
        },
        "outputId": "2243186c-1e59-4b87-abf9-5f9cd8cd48d6"
      },
      "execution_count": null,
      "outputs": [
        {
          "output_type": "stream",
          "name": "stdout",
          "text": [
            "banana\n"
          ]
        }
      ]
    },
    {
      "cell_type": "code",
      "source": [
        "#6\n",
        "\n",
        "list = [1, 2, 3]\n",
        "print(list[1])"
      ],
      "metadata": {
        "id": "f5wQvNYgR3LM",
        "colab": {
          "base_uri": "https://localhost:8080/"
        },
        "outputId": "612ae6cc-6462-407a-a391-7b6e8b9cec7a"
      },
      "execution_count": null,
      "outputs": [
        {
          "output_type": "stream",
          "name": "stdout",
          "text": [
            "2\n"
          ]
        }
      ]
    },
    {
      "cell_type": "code",
      "source": [
        "#7\n",
        "nome= input(\"Digite seu nome: \")\n",
        "print(\"Seu nome é: \" + nome)"
      ],
      "metadata": {
        "id": "5jV9h3Z6R4-C",
        "colab": {
          "base_uri": "https://localhost:8080/"
        },
        "outputId": "d3773f30-5dbf-4edf-cd2e-f03348b30edf"
      },
      "execution_count": null,
      "outputs": [
        {
          "output_type": "stream",
          "name": "stdout",
          "text": [
            "Digite seu nome: Aline\n",
            "Seu nome é: Aline\n"
          ]
        }
      ]
    },
    {
      "cell_type": "code",
      "source": [
        "#8\n",
        "\n",
        "if 10 > 5:\n",
        "  print(\"Dez é maior\")"
      ],
      "metadata": {
        "id": "MHlacdJDSCRm",
        "colab": {
          "base_uri": "https://localhost:8080/"
        },
        "outputId": "d7d2999c-86f5-4b25-b7f4-7798ee93b9e8"
      },
      "execution_count": null,
      "outputs": [
        {
          "output_type": "stream",
          "name": "stdout",
          "text": [
            "Dez é maior\n"
          ]
        }
      ]
    },
    {
      "cell_type": "code",
      "source": [
        "#9\n",
        "\n",
        "meu_nome = \"Ana\"\n",
        "print('Ana')"
      ],
      "metadata": {
        "id": "HBclNWEySF2H",
        "colab": {
          "base_uri": "https://localhost:8080/"
        },
        "outputId": "2bf6e94e-ebc5-438e-a64a-768895ad6487"
      },
      "execution_count": null,
      "outputs": [
        {
          "output_type": "stream",
          "name": "stdout",
          "text": [
            "Ana\n"
          ]
        }
      ]
    },
    {
      "cell_type": "code",
      "source": [
        "#10\n",
        "\n",
        "print('Olá mundo')"
      ],
      "metadata": {
        "id": "Zmv7-ncrSKMp",
        "colab": {
          "base_uri": "https://localhost:8080/"
        },
        "outputId": "2ac57d24-b715-488d-9075-a63b61cd2b0f"
      },
      "execution_count": null,
      "outputs": [
        {
          "output_type": "stream",
          "name": "stdout",
          "text": [
            "Olá mundo\n"
          ]
        }
      ]
    },
    {
      "cell_type": "markdown",
      "source": [
        "Agora é hora de codar! Pronta para escrever seus primeiros códigos?"
      ],
      "metadata": {
        "id": "DwDWk8gKSNXg"
      }
    },
    {
      "cell_type": "code",
      "source": [
        "# 1. Escreva um programa que mostre na tela a mensagem: Olá mundo, estou aprendendo Python!\n",
        "print('Olá mundo, estou aprendendo Python!')"
      ],
      "metadata": {
        "id": "XCka5SW6SSiM",
        "colab": {
          "base_uri": "https://localhost:8080/"
        },
        "outputId": "579d837b-f1eb-4562-829e-0c8808b758e4"
      },
      "execution_count": null,
      "outputs": [
        {
          "output_type": "stream",
          "name": "stdout",
          "text": [
            "Olá mundo, estou aprendendo Python!\n"
          ]
        }
      ]
    },
    {
      "cell_type": "code",
      "source": [
        "# 2. Crie uma variável chamada nome e faça o programa mostrar: Olá <nome>\n",
        "name = 'Lilian'\n",
        "print('Olá, ', name)"
      ],
      "metadata": {
        "id": "14svT4FuSaKx",
        "colab": {
          "base_uri": "https://localhost:8080/"
        },
        "outputId": "f578ac7c-909a-45ed-e3da-fc1e6ba5ae86"
      },
      "execution_count": null,
      "outputs": [
        {
          "output_type": "stream",
          "name": "stdout",
          "text": [
            "Olá,  Lilian\n"
          ]
        }
      ]
    },
    {
      "cell_type": "code",
      "source": [
        "# 3. Peça ao usuário para digitar seu nome (input) e depois mostre uma mensagem de boas-vindas.\n",
        "nome = input(\"Digite seu nome: \")\n",
        "print(f\"Seja bem-vindo(a), {nome}!\")"
      ],
      "metadata": {
        "id": "aZYML53WShTV",
        "colab": {
          "base_uri": "https://localhost:8080/"
        },
        "outputId": "9e956e45-f473-41c6-8788-8e9f0513a27b"
      },
      "execution_count": null,
      "outputs": [
        {
          "output_type": "stream",
          "name": "stdout",
          "text": [
            "Digite seu nome: Aline\n",
            "Seja bem-vindo(a), Aline!\n"
          ]
        }
      ]
    },
    {
      "cell_type": "code",
      "source": [
        "# 4. Crie duas variáveis com números e mostre a soma delas usando print().\n",
        "num1 = 4\n",
        "num2 = 7\n",
        "\n",
        "print(num1 + num2)"
      ],
      "metadata": {
        "id": "_N_-bRjxSlOI",
        "colab": {
          "base_uri": "https://localhost:8080/"
        },
        "outputId": "aea3b6ea-5d47-4896-ac9c-8edd900c053e"
      },
      "execution_count": null,
      "outputs": [
        {
          "output_type": "stream",
          "name": "stdout",
          "text": [
            "11\n"
          ]
        }
      ]
    },
    {
      "cell_type": "code",
      "source": [
        "# 5. Crie uma lista com 3 frutas e mostre apenas a primeira fruta.\n",
        "\n",
        "fruta = [\"banana\", \"uva\", \"pera\"]\n",
        "print(fruta[0])"
      ],
      "metadata": {
        "id": "nb26XAT2Sok0",
        "colab": {
          "base_uri": "https://localhost:8080/"
        },
        "outputId": "76a96296-ea29-49e3-9c5b-879366b35fb8"
      },
      "execution_count": null,
      "outputs": [
        {
          "output_type": "stream",
          "name": "stdout",
          "text": [
            "banana\n"
          ]
        }
      ]
    },
    {
      "cell_type": "code",
      "source": [
        "# 6. Escreva um código que verifique se um número guardado em uma variável é maior que 10. Se for, mostre “Maior que 10”, senão mostre “10 ou menor”.\n",
        "num3 = 11\n",
        "num5 = 12\n",
        "\n",
        "if num3 < 10:\n",
        "  print(f\"É maior que 10!\")\n",
        "else:\n",
        "  print(f\"Não é maior que 10!\")\n"
      ],
      "metadata": {
        "id": "zZm0cxQwSrbK",
        "colab": {
          "base_uri": "https://localhost:8080/"
        },
        "outputId": "b861ee9d-3b08-4fe5-e336-4f6bbcc5120f"
      },
      "execution_count": null,
      "outputs": [
        {
          "output_type": "stream",
          "name": "stdout",
          "text": [
            "Não é maior que 10!\n"
          ]
        }
      ]
    },
    {
      "cell_type": "code",
      "source": [
        "# 7. Crie um laço for que mostre os números de 1 até 5.\n",
        "\n",
        "for numero in range(1,6):\n",
        "  print(numero)"
      ],
      "metadata": {
        "id": "kNRtlloSSuZA",
        "colab": {
          "base_uri": "https://localhost:8080/"
        },
        "outputId": "b01b561d-76d0-4fbe-dc13-fbccce0e1043"
      },
      "execution_count": null,
      "outputs": [
        {
          "output_type": "stream",
          "name": "stdout",
          "text": [
            "1\n",
            "2\n",
            "3\n",
            "4\n",
            "5\n"
          ]
        }
      ]
    },
    {
      "cell_type": "code",
      "source": [
        "# 8. Crie uma função chamada saudacao que mostre uma mensagem de saudação que você preferir\n",
        "\n",
        "saudacao = \"Olá, mundo\"\n",
        "nome = input(\"Digite seu nome: \")\n",
        "\n",
        "\n",
        "\n",
        "while nome in [saudacao]:\n",
        "  print(f\"{saudacao}, {nome}!\")"
      ],
      "metadata": {
        "id": "8UEgzCCESw6A",
        "colab": {
          "base_uri": "https://localhost:8080/"
        },
        "outputId": "d55d98b4-aec8-4751-c235-7f32195531da"
      },
      "execution_count": null,
      "outputs": [
        {
          "name": "stdout",
          "output_type": "stream",
          "text": [
            "Digite seu nome: Aline\n"
          ]
        }
      ]
    },
    {
      "cell_type": "code",
      "source": [
        "# 8. Crie uma função chamada saudacao que mostre uma mensagem de saudação que você preferir\n",
        "\n",
        "def saudacao():\n",
        "  nome = input(\"Digite seu nome: \")\n",
        "  print(f\"Olá, {nome}!\") # You can customize this greeting\n",
        "\n",
        "# Call the function to use it\n",
        "saudacao()"
      ],
      "metadata": {
        "colab": {
          "base_uri": "https://localhost:8080/"
        },
        "id": "F3juTnnvZGmc",
        "outputId": "71c649dc-665a-4b8c-d1d2-412b679d0f35"
      },
      "execution_count": null,
      "outputs": [
        {
          "output_type": "stream",
          "name": "stdout",
          "text": [
            "Digite seu nome: Aline\n",
            "Olá, Aline!\n"
          ]
        }
      ]
    },
    {
      "cell_type": "code",
      "source": [
        "# 9. Crie um programa que peça ao usuário para digitar sua idade e mostre na tela:\n",
        "\n",
        "idade = input(\"Qual sua idade?\")\n",
        "print(f\"Você tem {idade} anos\")"
      ],
      "metadata": {
        "id": "lMxhozkmS28o",
        "colab": {
          "base_uri": "https://localhost:8080/"
        },
        "outputId": "b7968c40-8790-4d32-a26a-bd9fcbbff5b9"
      },
      "execution_count": null,
      "outputs": [
        {
          "output_type": "stream",
          "name": "stdout",
          "text": [
            "Qual sua idade?43\n",
            "Você tem 43 anos\n"
          ]
        }
      ]
    },
    {
      "cell_type": "code",
      "source": [
        "# 10. Crie uma lista com 5 números e use um for para mostrar cada número da lista na tela.\n",
        "\n",
        "# Criando a lista com 5 números\n",
        "numeros = [3, 7, 12, 25, 40]\n",
        "\n",
        "# Usando o for para mostrar cada número\n",
        "for numero in numeros:\n",
        "    print(numero)"
      ],
      "metadata": {
        "id": "qTuptXJ_S8EK",
        "colab": {
          "base_uri": "https://localhost:8080/"
        },
        "outputId": "edf3f83e-f7b7-44b4-d071-97eb17270508"
      },
      "execution_count": 2,
      "outputs": [
        {
          "output_type": "stream",
          "name": "stdout",
          "text": [
            "3\n",
            "7\n",
            "12\n",
            "25\n",
            "40\n"
          ]
        }
      ]
    },
    {
      "cell_type": "markdown",
      "source": [
        "Vamos complicar um pouquinho?"
      ],
      "metadata": {
        "id": "yycZtMrTTApe"
      }
    },
    {
      "cell_type": "code",
      "source": [
        "# 1. Saudação personalizada várias vezes . Peça o nome do usuário e depois mostre a saudação \"Olá, <nome>!\" 3 vezes, usando um for.\n",
        "\n",
        "# Pedindo o nome do usuário\n",
        "nome = input(\"Digite seu nome: \")\n",
        "\n",
        "# Mostrando a saudação 3 vezes\n",
        "for i in range(3):\n",
        "    print(f\"Olá, {nome}!\")"
      ],
      "metadata": {
        "id": "8OjOIONITEXt",
        "colab": {
          "base_uri": "https://localhost:8080/"
        },
        "outputId": "2a59d73e-6714-492a-f929-8eebcf8f5860"
      },
      "execution_count": 4,
      "outputs": [
        {
          "output_type": "stream",
          "name": "stdout",
          "text": [
            "Digite seu nome: Aline\n",
            "Olá, Aline!\n",
            "Olá, Aline!\n",
            "Olá, Aline!\n"
          ]
        }
      ]
    },
    {
      "cell_type": "code",
      "source": [
        "# 2. Contagem com mensagens. Mostre os números de 1 a 5 em sequência, mas junto de uma mensagem, por exemplo:\n",
        "\n",
        "# Contagem de 1 a 5 com mensagens\n",
        "for numero in range(1, 6):\n",
        "    print(f\"Número {numero}: Viva a vida!\")"
      ],
      "metadata": {
        "id": "vSQRRooYTbG2",
        "colab": {
          "base_uri": "https://localhost:8080/"
        },
        "outputId": "b8f9ccb2-0a06-4b7f-83e9-40e09d429911"
      },
      "execution_count": 5,
      "outputs": [
        {
          "output_type": "stream",
          "name": "stdout",
          "text": [
            "Número 1: Viva a vida!\n",
            "Número 2: Viva a vida!\n",
            "Número 3: Viva a vida!\n",
            "Número 4: Viva a vida!\n",
            "Número 5: Viva a vida!\n"
          ]
        }
      ]
    },
    {
      "cell_type": "code",
      "source": [
        "# 3.Perguntar senha com tentativas. Crie um código que peça ao usuário uma senha.\n",
        "\n",
        "# Se ele acertar (por exemplo, a senha é \"python\"), mostre \"Acesso permitido\".\n",
        "\n",
        "# Se errar, mostre \"Tente novamente\".\n",
        "\n",
        "# Repita até acertar.\n",
        "\n",
        "\n",
        "# Definindo a senha correta\n",
        "senha_correta  = \"python\"\n",
        "\n",
        "# Loop até o usuário acertar\n",
        "while True:\n",
        "    senha = input(\"Digite a senha: \")\n",
        "    if senha == senha_correta:\n",
        "        print(\"Acesso permitido ✅\")\n",
        "        break\n",
        "    else:\n",
        "        print(\"Tente novamente...\")"
      ],
      "metadata": {
        "id": "T1yTCfRUTinN",
        "colab": {
          "base_uri": "https://localhost:8080/"
        },
        "outputId": "cdeeb80b-f7e9-4fdd-f4c4-dc1f8c7d7cac"
      },
      "execution_count": 6,
      "outputs": [
        {
          "output_type": "stream",
          "name": "stdout",
          "text": [
            "Digite a senha: 3355\n",
            "Tente novamente...\n",
            "Digite a senha: 8855\n",
            "Tente novamente...\n",
            "Digite a senha: 7799\n",
            "Tente novamente...\n",
            "Digite a senha: python\n",
            "Acesso permitido ✅\n"
          ]
        }
      ]
    },
    {
      "cell_type": "code",
      "source": [
        "# Baseando-se no #3 quis modificar o comando que após 3 tentativas, a senha será bloqueada\n",
        "\n",
        "# Definindo a senha correta\n",
        "senha_correta = \"python\"\n",
        "\n",
        "# Número máximo de tentativas\n",
        "tentativas_max = 3\n",
        "tentativas = 0\n",
        "\n",
        "while tentativas < tentativas_max:\n",
        "    senha = input(\"Digite a senha: \")\n",
        "    if senha == senha_correta:\n",
        "        print(\"Acesso permitido ✅\")\n",
        "        break\n",
        "    else:\n",
        "        tentativas += 1\n",
        "        print(\"Tente novamente...\")\n",
        "\n",
        "if tentativas == tentativas_max:\n",
        "    print(\"Número de tentativas excedido. Redefina a senha 🔒\")"
      ],
      "metadata": {
        "colab": {
          "base_uri": "https://localhost:8080/"
        },
        "id": "JG5BHxSRCiVF",
        "outputId": "2cf3d5a2-7fb7-4c51-d960-06c173a6ee8b"
      },
      "execution_count": 7,
      "outputs": [
        {
          "output_type": "stream",
          "name": "stdout",
          "text": [
            "Digite a senha: 64758\n",
            "Tente novamente...\n",
            "Digite a senha: 854994\n",
            "Tente novamente...\n",
            "Digite a senha: 85959\n",
            "Tente novamente...\n",
            "Número de tentativas excedido. Redefina a senha 🔒\n"
          ]
        }
      ]
    },
    {
      "cell_type": "code",
      "source": [
        "# Cadastrar nova senha caso seja bloqueada\n",
        "\n",
        "# Definindo a senha inicial\n",
        "senha_correta = \"python\"\n",
        "tentativas_max = 3\n",
        "tentativas = 0\n",
        "\n",
        "while tentativas < tentativas_max:\n",
        "    senha = input(\"Digite a senha: \")\n",
        "    if senha == senha_correta:\n",
        "        print(\"Acesso permitido ✅\")\n",
        "        break\n",
        "    else:\n",
        "        tentativas += 1\n",
        "        print(\"Tente novamente...\")\n",
        "\n",
        "if tentativas == tentativas_max:\n",
        "    print(\"Número de tentativas excedido. Redefina a senha 🔒\")\n",
        "    senha_correta = input(\"Digite a nova senha: \")\n",
        "    print(\"Senha redefinida com sucesso! ✅\")\n",
        "    print(\"Fim do programa 🚪\")\n",
        "    print(\"Senha redefinida com sucesso! Agora tente novamente.\")"
      ],
      "metadata": {
        "colab": {
          "base_uri": "https://localhost:8080/"
        },
        "id": "44-VUPQWDPV3",
        "outputId": "141b96d7-e9f7-4f01-eeeb-a02abc09c74c"
      },
      "execution_count": 3,
      "outputs": [
        {
          "output_type": "stream",
          "name": "stdout",
          "text": [
            "Digite a senha: 7558\n",
            "Tente novamente...\n",
            "Digite a senha: 7857\n",
            "Tente novamente...\n",
            "Digite a senha: 78257\n",
            "Tente novamente...\n",
            "Número de tentativas excedido. Redefina a senha 🔒\n",
            "Digite a nova senha: python\n",
            "Senha redefinida com sucesso! ✅\n",
            "Fim do programa 🚪\n",
            "Senha redefinida com sucesso! Agora tente novamente.\n"
          ]
        }
      ]
    },
    {
      "cell_type": "code",
      "source": [
        "# 4) Função de saudação\n",
        "\n",
        "# Crie uma função chamada saudacao() que pede o nome do usuário e depois imprime \"Bem-vindo, <nome>!\".\n",
        "\n",
        "# Depois chame a função para testar.\n",
        "\n",
        "\n",
        "# Definindo a função\n",
        "def saudacao():\n",
        "    nome = input(\"Digite seu nome: \")\n",
        "    print(f\"Bem-vindo, {nome}!\")\n",
        "\n",
        "# Chamando a função para testar\n",
        "saudacao()"
      ],
      "metadata": {
        "id": "Oui0l_24Tt69",
        "colab": {
          "base_uri": "https://localhost:8080/"
        },
        "outputId": "8ab0b2bc-46d0-4e72-8358-2eba3e168ba8"
      },
      "execution_count": 1,
      "outputs": [
        {
          "output_type": "stream",
          "name": "stdout",
          "text": [
            "Digite seu nome: Aline\n",
            "Bem-vindo, Aline!\n"
          ]
        }
      ]
    },
    {
      "cell_type": "code",
      "source": [
        "# 5.Menu simples em loop\n",
        "\n",
        "# Faça um código que mostre o seguinte menu até o usuário digitar \"0\": 1 - Dizer Olá 2 - Dizer Tchau 0 - Sair\n",
        "\n",
        "\n",
        "# Se escolher 1, mostre \"Olá!\".\n",
        "# Se escolher 2, mostre \"Tchau!\".\n",
        "# Se escolher 0, encerre o programa mostrando \"Fim\".\n",
        "\n",
        "while True:\n",
        "    print(\"\\n--- Menu ---\")\n",
        "    print(\"1 - Dizer Olá\")\n",
        "    print(\"2 - Dizer Tchau\")\n",
        "    print(\"0 - Sair\")\n",
        "\n",
        "    opcao = input(\"Escolha uma opção: \")\n",
        "\n",
        "    if opcao == \"1\":\n",
        "        print(\"Olá! 👋\")\n",
        "    elif opcao == \"2\":\n",
        "        print(\"Tchau! 👋\")\n",
        "    elif opcao == \"0\":\n",
        "        print(\"Fim 🚪\")\n",
        "        break\n",
        "    else:\n",
        "        print(\"Opção inválida. Tente novamente.\")"
      ],
      "metadata": {
        "id": "OrETOODHTzgv",
        "colab": {
          "base_uri": "https://localhost:8080/"
        },
        "outputId": "02aa307a-cede-420e-cade-a369919f3f54"
      },
      "execution_count": 2,
      "outputs": [
        {
          "output_type": "stream",
          "name": "stdout",
          "text": [
            "\n",
            "--- Menu ---\n",
            "1 - Dizer Olá\n",
            "2 - Dizer Tchau\n",
            "0 - Sair\n",
            "Escolha uma opção: 1\n",
            "Olá! 👋\n",
            "\n",
            "--- Menu ---\n",
            "1 - Dizer Olá\n",
            "2 - Dizer Tchau\n",
            "0 - Sair\n",
            "Escolha uma opção: 0\n",
            "Fim 🚪\n"
          ]
        }
      ]
    }
  ]
}