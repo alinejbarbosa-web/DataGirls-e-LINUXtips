{
  "nbformat": 4,
  "nbformat_minor": 0,
  "metadata": {
    "colab": {
      "provenance": [],
      "include_colab_link": true
    },
    "kernelspec": {
      "name": "python3",
      "display_name": "Python 3"
    },
    "language_info": {
      "name": "python"
    }
  },
  "cells": [
    {
      "cell_type": "markdown",
      "metadata": {
        "id": "view-in-github",
        "colab_type": "text"
      },
      "source": [
        "<a href=\"https://colab.research.google.com/github/alinejbarbosa-web/DataGirls-e-LINUXtips/blob/main/Data_Girls_Desafios_Semana_2.ipynb\" target=\"_parent\"><img src=\"https://colab.research.google.com/assets/colab-badge.svg\" alt=\"Open In Colab\"/></a>"
      ]
    },
    {
      "cell_type": "markdown",
      "source": [
        "Vamos começar corrigindo os erros abaixo. Faça os 10 códigos abaixo funcionarem"
      ],
      "metadata": {
        "id": "iWLuUCSoRet6"
      }
    },
    {
      "cell_type": "code",
      "source": [
        "numero_1=\"1\"\n",
        "\n",
        "numero_2=\"00\"\n",
        "\n",
        "valor_total=numero_1 + numero_2\n",
        "\n",
        "print(valor_total)"
      ],
      "metadata": {
        "id": "ReItLw5EuBVL"
      },
      "execution_count": null,
      "outputs": []
    },
    {
      "cell_type": "code",
      "source": [
        "coordenadas_tupla=(10.5, 11, 14)\n",
        "print(coordenadas_tupla)\n",
        "print(coordenadas_tupla[2])\n",
        "coordenadas_lista=[10.5, 11, 14]\n",
        "print(coordenadas_lista)\n",
        "coordenadas_lista.append=[1]\n",
        "print(coordenadas_lista)"
      ],
      "metadata": {
        "id": "rgZ1WocMuEV_",
        "colab": {
          "base_uri": "https://localhost:8080/",
          "height": 245
        },
        "outputId": "cd9c16b3-905c-411e-f203-ce49f3e3208e"
      },
      "execution_count": 9,
      "outputs": [
        {
          "output_type": "stream",
          "name": "stdout",
          "text": [
            "(10.5, 11, 14)\n",
            "14\n",
            "[10.5, 11, 14]\n"
          ]
        },
        {
          "output_type": "error",
          "ename": "AttributeError",
          "evalue": "'list' object attribute 'append' is read-only",
          "traceback": [
            "\u001b[0;31m---------------------------------------------------------------------------\u001b[0m",
            "\u001b[0;31mAttributeError\u001b[0m                            Traceback (most recent call last)",
            "\u001b[0;32m/tmp/ipython-input-3339763908.py\u001b[0m in \u001b[0;36m<cell line: 0>\u001b[0;34m()\u001b[0m\n\u001b[1;32m      4\u001b[0m \u001b[0mcoordenadas_lista\u001b[0m\u001b[0;34m=\u001b[0m\u001b[0;34m[\u001b[0m\u001b[0;36m10.5\u001b[0m\u001b[0;34m,\u001b[0m \u001b[0;36m11\u001b[0m\u001b[0;34m,\u001b[0m \u001b[0;36m14\u001b[0m\u001b[0;34m]\u001b[0m\u001b[0;34m\u001b[0m\u001b[0;34m\u001b[0m\u001b[0m\n\u001b[1;32m      5\u001b[0m \u001b[0mprint\u001b[0m\u001b[0;34m(\u001b[0m\u001b[0mcoordenadas_lista\u001b[0m\u001b[0;34m)\u001b[0m\u001b[0;34m\u001b[0m\u001b[0;34m\u001b[0m\u001b[0m\n\u001b[0;32m----> 6\u001b[0;31m \u001b[0mcoordenadas_lista\u001b[0m\u001b[0;34m.\u001b[0m\u001b[0mappend\u001b[0m\u001b[0;34m=\u001b[0m\u001b[0;34m[\u001b[0m\u001b[0;36m1\u001b[0m\u001b[0;34m]\u001b[0m\u001b[0;34m\u001b[0m\u001b[0;34m\u001b[0m\u001b[0m\n\u001b[0m\u001b[1;32m      7\u001b[0m \u001b[0mprint\u001b[0m\u001b[0;34m(\u001b[0m\u001b[0mcoordenadas_lista\u001b[0m\u001b[0;34m)\u001b[0m\u001b[0;34m\u001b[0m\u001b[0;34m\u001b[0m\u001b[0m\n",
            "\u001b[0;31mAttributeError\u001b[0m: 'list' object attribute 'append' is read-only"
          ]
        }
      ]
    },
    {
      "cell_type": "code",
      "source": [
        "coordenadas_tupla=(10.5, 11, 14)\n",
        "print(coordenadas_tupla)\n",
        "print(coordenadas_tupla[2])\n",
        "coordenadas_lista=[10.5, 11, 14]\n",
        "print(coordenadas_lista)\n",
        "coordenadas_lista.append(1)\n",
        "print(coordenadas_lista)"
      ],
      "metadata": {
        "colab": {
          "base_uri": "https://localhost:8080/"
        },
        "id": "aONMv9ZxvhTp",
        "outputId": "07a51fa0-2b83-481d-b5b8-6d7e5b709247"
      },
      "execution_count": 10,
      "outputs": [
        {
          "output_type": "stream",
          "name": "stdout",
          "text": [
            "(10.5, 11, 14)\n",
            "14\n",
            "[10.5, 11, 14]\n",
            "[10.5, 11, 14, 1]\n"
          ]
        }
      ]
    },
    {
      "cell_type": "code",
      "execution_count": 11,
      "metadata": {
        "id": "nXk3KKk0RVGb",
        "colab": {
          "base_uri": "https://localhost:8080/"
        },
        "outputId": "3a5c2894-4e6e-4234-cb94-0b1c5210cfa5"
      },
      "outputs": [
        {
          "output_type": "stream",
          "name": "stdout",
          "text": [
            "Aline Barbosa\n"
          ]
        }
      ],
      "source": [
        "#1\n",
        "nome = \"Aline Barbosa\"\n",
        "print(nome)"
      ]
    },
    {
      "cell_type": "code",
      "source": [
        "#2\n",
        "\n",
        "print (\"Olá mundo\")"
      ],
      "metadata": {
        "id": "BOXSfoRrRqca",
        "colab": {
          "base_uri": "https://localhost:8080/"
        },
        "outputId": "a48378b3-7480-4fa6-f46b-44bcbc4bec9b"
      },
      "execution_count": 12,
      "outputs": [
        {
          "output_type": "stream",
          "name": "stdout",
          "text": [
            "Olá mundo\n"
          ]
        }
      ]
    },
    {
      "cell_type": "code",
      "source": [
        "#3\n",
        "\n",
        "idade = \"43\"\n",
        "print(\"Minha idade é \" + idade)"
      ],
      "metadata": {
        "id": "enkXUdWORtAr",
        "colab": {
          "base_uri": "https://localhost:8080/"
        },
        "outputId": "a6d68bfb-9581-4806-9d05-d48cb66c8a8f"
      },
      "execution_count": 13,
      "outputs": [
        {
          "output_type": "stream",
          "name": "stdout",
          "text": [
            "Minha idade é 43\n"
          ]
        }
      ]
    },
    {
      "cell_type": "code",
      "source": [
        "#4\n",
        "\n",
        "if 5 > 2:\n",
        "    print(\"Cinco é maior que dois\")"
      ],
      "metadata": {
        "id": "pFmVMA4eRv6W",
        "colab": {
          "base_uri": "https://localhost:8080/"
        },
        "outputId": "fd3ffa16-23a7-451a-cec6-fb266036e570"
      },
      "execution_count": 14,
      "outputs": [
        {
          "output_type": "stream",
          "name": "stdout",
          "text": [
            "Cinco é maior que dois\n"
          ]
        }
      ]
    },
    {
      "cell_type": "code",
      "source": [
        "#5\n",
        "\n",
        "\n",
        "frutas = [\"maçã\", \"banana\", \"uva\"]\n",
        "print(frutas[1])"
      ],
      "metadata": {
        "id": "IgY8i0URRzik",
        "colab": {
          "base_uri": "https://localhost:8080/"
        },
        "outputId": "daa1acc9-d598-4f2e-99ae-02aa96ccdc7b"
      },
      "execution_count": 15,
      "outputs": [
        {
          "output_type": "stream",
          "name": "stdout",
          "text": [
            "banana\n"
          ]
        }
      ]
    },
    {
      "cell_type": "code",
      "source": [
        "#6\n",
        "\n",
        "list = [1, 2, 3]\n",
        "print(list[1])"
      ],
      "metadata": {
        "id": "f5wQvNYgR3LM",
        "colab": {
          "base_uri": "https://localhost:8080/"
        },
        "outputId": "c3966bae-6832-414f-cfb0-d6587e02030e"
      },
      "execution_count": 16,
      "outputs": [
        {
          "output_type": "stream",
          "name": "stdout",
          "text": [
            "2\n"
          ]
        }
      ]
    },
    {
      "cell_type": "code",
      "source": [
        "#7\n",
        "nome= input(\"Digite seu nome: \")\n",
        "print(\"Seu nome é: \" + nome)"
      ],
      "metadata": {
        "id": "5jV9h3Z6R4-C",
        "colab": {
          "base_uri": "https://localhost:8080/"
        },
        "outputId": "ba4babd6-bcb1-4b34-c579-afd5e7752ff0"
      },
      "execution_count": 17,
      "outputs": [
        {
          "output_type": "stream",
          "name": "stdout",
          "text": [
            "Digite seu nome: Aline\n",
            "Seu nome é: Aline\n"
          ]
        }
      ]
    },
    {
      "cell_type": "code",
      "source": [
        "#8\n",
        "\n",
        "if 10 > 5:\n",
        "  print(\"Dez é maior\")"
      ],
      "metadata": {
        "id": "MHlacdJDSCRm",
        "colab": {
          "base_uri": "https://localhost:8080/"
        },
        "outputId": "2487f915-fe00-48ad-b003-3fe9fe1b02a4"
      },
      "execution_count": 18,
      "outputs": [
        {
          "output_type": "stream",
          "name": "stdout",
          "text": [
            "Dez é maior\n"
          ]
        }
      ]
    },
    {
      "cell_type": "code",
      "source": [
        "#9\n",
        "\n",
        "meu_nome = \"Ana\"\n",
        "print('Ana')"
      ],
      "metadata": {
        "id": "HBclNWEySF2H",
        "colab": {
          "base_uri": "https://localhost:8080/"
        },
        "outputId": "77e954d8-ab2b-47b3-a084-cdd144455c43"
      },
      "execution_count": 19,
      "outputs": [
        {
          "output_type": "stream",
          "name": "stdout",
          "text": [
            "Ana\n"
          ]
        }
      ]
    },
    {
      "cell_type": "code",
      "source": [
        "#10\n",
        "\n",
        "print('Olá mundo')"
      ],
      "metadata": {
        "id": "Zmv7-ncrSKMp",
        "colab": {
          "base_uri": "https://localhost:8080/"
        },
        "outputId": "1f7feb76-137f-4074-e8e0-84ec3651926a"
      },
      "execution_count": 20,
      "outputs": [
        {
          "output_type": "stream",
          "name": "stdout",
          "text": [
            "Olá mundo\n"
          ]
        }
      ]
    },
    {
      "cell_type": "markdown",
      "source": [
        "Agora é hora de codar! Pronta para escrever seus primeiros códigos?"
      ],
      "metadata": {
        "id": "DwDWk8gKSNXg"
      }
    },
    {
      "cell_type": "code",
      "source": [
        "# 1. Escreva um programa que mostre na tela a mensagem: Olá mundo, estou aprendendo Python!\n",
        "print('Olá mundo, estou aprendendo Python!')"
      ],
      "metadata": {
        "id": "XCka5SW6SSiM",
        "colab": {
          "base_uri": "https://localhost:8080/"
        },
        "outputId": "0613dcbb-7111-451e-b549-cd69db0fec4d"
      },
      "execution_count": 21,
      "outputs": [
        {
          "output_type": "stream",
          "name": "stdout",
          "text": [
            "Olá mundo, estou aprendendo Python!\n"
          ]
        }
      ]
    },
    {
      "cell_type": "code",
      "source": [
        "# 2. Crie uma variável chamada nome e faça o programa mostrar: Olá <nome>\n",
        "name = 'Aline'\n",
        "print('Olá, ', name)"
      ],
      "metadata": {
        "id": "14svT4FuSaKx",
        "colab": {
          "base_uri": "https://localhost:8080/"
        },
        "outputId": "d6574352-ad16-45c7-966e-e79f9cdc03e3"
      },
      "execution_count": 23,
      "outputs": [
        {
          "output_type": "stream",
          "name": "stdout",
          "text": [
            "Olá,  Aline\n"
          ]
        }
      ]
    },
    {
      "cell_type": "code",
      "source": [
        "# 3. Peça ao usuário para digitar seu nome (input) e depois mostre uma mensagem de boas-vindas.\n",
        "nome = input(\"Digite seu nome: \")\n",
        "print(f\"Seja bem-vindo(a), {nome}!\")"
      ],
      "metadata": {
        "id": "aZYML53WShTV",
        "colab": {
          "base_uri": "https://localhost:8080/"
        },
        "outputId": "fc0a6f3e-3be9-4a69-cc93-71faa99f796f"
      },
      "execution_count": 24,
      "outputs": [
        {
          "output_type": "stream",
          "name": "stdout",
          "text": [
            "Digite seu nome: Aline\n",
            "Seja bem-vindo(a), Aline!\n"
          ]
        }
      ]
    },
    {
      "cell_type": "code",
      "source": [
        "# 4. Crie duas variáveis com números e mostre a soma delas usando print().\n",
        "num1 = 4\n",
        "num2 = 7\n",
        "\n",
        "print(num1 + num2)"
      ],
      "metadata": {
        "id": "_N_-bRjxSlOI",
        "colab": {
          "base_uri": "https://localhost:8080/"
        },
        "outputId": "3114665d-480b-4ad5-d893-7ef00e2b62d2"
      },
      "execution_count": 25,
      "outputs": [
        {
          "output_type": "stream",
          "name": "stdout",
          "text": [
            "11\n"
          ]
        }
      ]
    },
    {
      "cell_type": "code",
      "source": [
        "# 5. Crie uma lista com 3 frutas e mostre apenas a primeira fruta.\n",
        "\n",
        "fruta = [\"banana\", \"uva\", \"pera\"]\n",
        "print(fruta[0])"
      ],
      "metadata": {
        "id": "nb26XAT2Sok0",
        "colab": {
          "base_uri": "https://localhost:8080/"
        },
        "outputId": "59834cc3-4c26-4725-90ec-4b4c722edd3f"
      },
      "execution_count": 26,
      "outputs": [
        {
          "output_type": "stream",
          "name": "stdout",
          "text": [
            "banana\n"
          ]
        }
      ]
    },
    {
      "cell_type": "code",
      "source": [
        "# 6. Escreva um código que verifique se um número guardado em uma variável é maior que 10. Se for, mostre “Maior que 10”, senão mostre “10 ou menor”.\n",
        "num3 = 11\n",
        "num5 = 12\n",
        "\n",
        "if num3 < 10:\n",
        "  print(f\"É maior que 10!\")\n",
        "else:\n",
        "  print(f\"Não é maior que 10!\")\n"
      ],
      "metadata": {
        "id": "zZm0cxQwSrbK",
        "colab": {
          "base_uri": "https://localhost:8080/"
        },
        "outputId": "6df95c9c-6e32-4b7f-8d46-3f6ed2f6cc19"
      },
      "execution_count": 28,
      "outputs": [
        {
          "output_type": "stream",
          "name": "stdout",
          "text": [
            "Não é maior que 10!\n"
          ]
        }
      ]
    },
    {
      "cell_type": "code",
      "source": [
        "# 7. Crie um laço for que mostre os números de 1 até 5.\n",
        "\n",
        "for numero in range(1,6):\n",
        "  print(numero)"
      ],
      "metadata": {
        "id": "kNRtlloSSuZA",
        "colab": {
          "base_uri": "https://localhost:8080/"
        },
        "outputId": "7244108d-6627-4523-82ae-814d328545a3"
      },
      "execution_count": 30,
      "outputs": [
        {
          "output_type": "stream",
          "name": "stdout",
          "text": [
            "1\n",
            "2\n",
            "3\n",
            "4\n",
            "5\n"
          ]
        }
      ]
    },
    {
      "cell_type": "code",
      "source": [
        "# 8. Crie uma função chamada saudacao que mostre uma mensagem de saudação que você preferir\n",
        "\n",
        "def saudacao():\n",
        "  nome = input(\"Digite seu nome: \")\n",
        "  print(f\"Olá, {nome}!\") # You can customize this greeting\n",
        "\n",
        "# Call the function to use it\n",
        "saudacao()"
      ],
      "metadata": {
        "id": "F3juTnnvZGmc",
        "colab": {
          "base_uri": "https://localhost:8080/"
        },
        "outputId": "8c00e472-b61a-46b5-91e5-e6817504b835"
      },
      "execution_count": 33,
      "outputs": [
        {
          "output_type": "stream",
          "name": "stdout",
          "text": [
            "Digite seu nome: Aline\n",
            "Olá, Aline!\n"
          ]
        }
      ]
    },
    {
      "cell_type": "code",
      "source": [],
      "metadata": {
        "id": "hrzkruO6yNIe"
      },
      "execution_count": null,
      "outputs": []
    },
    {
      "cell_type": "code",
      "source": [
        "# 8. Crie uma função chamada saudacao que mostre uma mensagem de saudação que você preferir\n",
        "\n",
        "import datetime\n",
        "import pytz # Importa a biblioteca pytz\n",
        "\n",
        "def saudacao():\n",
        "  nome = input(\"Digite seu nome: \")\n",
        "\n",
        "  # Define o fuso horário de Brasília (America/Sao_Paulo)\n",
        "  fuso_horario_brasilia = pytz.timezone('America/Sao_Paulo')\n",
        "\n",
        "  # Obtém a data e hora atual no fuso horário de Brasília\n",
        "  agora_brasilia = datetime.datetime.now(fuso_horario_brasilia)\n",
        "\n",
        "  # Extrai a hora\n",
        "  hora_atual = agora_brasilia.hour\n",
        "\n",
        "  if hora_atual < 12:\n",
        "    print(f\"Bom dia, {nome}!\")\n",
        "  elif 12 <= hora_atual < 18:\n",
        "    print(f\"Boa tarde, {nome}!\")\n",
        "  else:\n",
        "    print(f\"Boa noite, {nome}!\")\n",
        "\n",
        "# Call the function to use it\n",
        "saudacao()"
      ],
      "metadata": {
        "colab": {
          "base_uri": "https://localhost:8080/"
        },
        "outputId": "3e8b10b2-fc8c-4dbf-bd68-c9e591e8b598",
        "id": "IUozXhS_yNXV"
      },
      "execution_count": 40,
      "outputs": [
        {
          "output_type": "stream",
          "name": "stdout",
          "text": [
            "Digite seu nome: Aline\n",
            "Boa noite, Aline!\n"
          ]
        }
      ]
    },
    {
      "cell_type": "code",
      "source": [
        "# 9. Crie um programa que peça ao usuário para digitar sua idade e mostre na tela:\n",
        "\n",
        "idade = input(\"Qual sua idade?\")\n",
        "print(f\"Você tem {idade} anos.\")"
      ],
      "metadata": {
        "id": "lMxhozkmS28o",
        "colab": {
          "base_uri": "https://localhost:8080/"
        },
        "outputId": "0f7bfb28-7764-4f7f-86ac-64ff2f3fa1ea"
      },
      "execution_count": 41,
      "outputs": [
        {
          "output_type": "stream",
          "name": "stdout",
          "text": [
            "Qual sua idade?43\n",
            "Você tem 43 anos.\n"
          ]
        }
      ]
    },
    {
      "cell_type": "code",
      "source": [
        "# 10. Crie uma lista com 5 números e use um for para mostrar cada número da lista na tela.\n",
        "\n",
        "# Criando a lista com 5 números\n",
        "numeros = [3, 7, 12, 25, 40]\n",
        "\n",
        "# Usando o for para mostrar cada número\n",
        "for numero in numeros:\n",
        "    print(numero)"
      ],
      "metadata": {
        "id": "qTuptXJ_S8EK",
        "colab": {
          "base_uri": "https://localhost:8080/"
        },
        "outputId": "ab399723-78b0-4518-e6b9-77346a362abb"
      },
      "execution_count": 42,
      "outputs": [
        {
          "output_type": "stream",
          "name": "stdout",
          "text": [
            "3\n",
            "7\n",
            "12\n",
            "25\n",
            "40\n"
          ]
        }
      ]
    },
    {
      "cell_type": "markdown",
      "source": [
        "Vamos complicar um pouquinho?"
      ],
      "metadata": {
        "id": "yycZtMrTTApe"
      }
    },
    {
      "cell_type": "code",
      "source": [
        "# 1. Saudação personalizada várias vezes . Peça o nome do usuário e depois mostre a saudação \"Olá, <nome>!\" 3 vezes, usando um for.\n",
        "\n",
        "# Pedindo o nome do usuário\n",
        "nome = input(\"Digite seu nome: \")\n",
        "\n",
        "# Mostrando a saudação 3 vezes\n",
        "for i in range(3):\n",
        "    print(f\"Olá, {nome}!\")"
      ],
      "metadata": {
        "id": "8OjOIONITEXt",
        "colab": {
          "base_uri": "https://localhost:8080/"
        },
        "outputId": "2ec3007c-99e0-4eee-ebbf-7c5077de7ead"
      },
      "execution_count": 43,
      "outputs": [
        {
          "output_type": "stream",
          "name": "stdout",
          "text": [
            "Digite seu nome: Aline\n",
            "Olá, Aline!\n",
            "Olá, Aline!\n",
            "Olá, Aline!\n"
          ]
        }
      ]
    },
    {
      "cell_type": "code",
      "source": [
        "# 2. Contagem com mensagens. Mostre os números de 1 a 5 em sequência, mas junto de uma mensagem, por exemplo:\n",
        "\n",
        "# Contagem de 1 a 5 com mensagens\n",
        "for numero in range(1, 6):\n",
        "    print(f\"Número {numero}: Viva a vida!\")"
      ],
      "metadata": {
        "id": "vSQRRooYTbG2",
        "colab": {
          "base_uri": "https://localhost:8080/"
        },
        "outputId": "cb263181-17d2-4f42-c812-8873b2ef3b82"
      },
      "execution_count": 44,
      "outputs": [
        {
          "output_type": "stream",
          "name": "stdout",
          "text": [
            "Número 1: Viva a vida!\n",
            "Número 2: Viva a vida!\n",
            "Número 3: Viva a vida!\n",
            "Número 4: Viva a vida!\n",
            "Número 5: Viva a vida!\n"
          ]
        }
      ]
    },
    {
      "cell_type": "code",
      "source": [
        "# 3.Perguntar senha com tentativas. Crie um código que peça ao usuário uma senha.\n",
        "\n",
        "# Se ele acertar (por exemplo, a senha é \"python\"), mostre \"Acesso permitido\".\n",
        "\n",
        "# Se errar, mostre \"Tente novamente\".\n",
        "\n",
        "# Repita até acertar.\n",
        "\n",
        "\n",
        "# Definindo a senha correta\n",
        "senha_correta  = \"python\"\n",
        "\n",
        "# Loop até o usuário acertar\n",
        "while True:\n",
        "    senha = input(\"Digite a senha: \")\n",
        "    if senha == senha_correta:\n",
        "        print(\"Acesso permitido ✅\")\n",
        "        break\n",
        "    else:\n",
        "        print(\"Tente novamente...\")"
      ],
      "metadata": {
        "id": "T1yTCfRUTinN",
        "colab": {
          "base_uri": "https://localhost:8080/"
        },
        "outputId": "db556dfc-ed8f-4f3a-e94e-25d78f3e9793"
      },
      "execution_count": 45,
      "outputs": [
        {
          "output_type": "stream",
          "name": "stdout",
          "text": [
            "Digite a senha: python\n",
            "Acesso permitido ✅\n"
          ]
        }
      ]
    },
    {
      "cell_type": "code",
      "source": [
        "# Baseando-se no #3 quis modificar o comando que após 3 tentativas, a senha será bloqueada\n",
        "\n",
        "# Definindo a senha correta\n",
        "senha_correta = \"python\"\n",
        "\n",
        "# Número máximo de tentativas\n",
        "tentativas_max = 3\n",
        "tentativas = 0\n",
        "\n",
        "while tentativas < tentativas_max:\n",
        "    senha = input(\"Digite a senha: \")\n",
        "    if senha == senha_correta:\n",
        "        print(\"Acesso permitido ✅\")\n",
        "        break\n",
        "    else:\n",
        "        tentativas += 1\n",
        "        print(\"Tente novamente...\")\n",
        "\n",
        "if tentativas == tentativas_max:\n",
        "    print(\"Número de tentativas excedido. Redefina a senha 🔒\")"
      ],
      "metadata": {
        "id": "JG5BHxSRCiVF",
        "colab": {
          "base_uri": "https://localhost:8080/"
        },
        "outputId": "ff9f35dc-021f-4f74-f3cd-c4222b5ae6ad"
      },
      "execution_count": 47,
      "outputs": [
        {
          "output_type": "stream",
          "name": "stdout",
          "text": [
            "Digite a senha: hasduei\n",
            "Tente novamente...\n",
            "Digite a senha: bsasjcas\n",
            "Tente novamente...\n",
            "Digite a senha: ascjc\n",
            "Tente novamente...\n",
            "Número de tentativas excedido. Redefina a senha 🔒\n"
          ]
        }
      ]
    },
    {
      "cell_type": "code",
      "source": [
        "# Cadastrar nova senha caso seja bloqueada\n",
        "\n",
        "# Definindo a senha inicial\n",
        "senha_correta = \"python\"\n",
        "tentativas_max = 3\n",
        "tentativas = 0\n",
        "\n",
        "while tentativas < tentativas_max:\n",
        "    senha = input(\"Digite a senha: \")\n",
        "    if senha == senha_correta:\n",
        "        print(\"Acesso permitido ✅\")\n",
        "        break\n",
        "    else:\n",
        "        tentativas += 1\n",
        "        print(\"Tente novamente...\")\n",
        "\n",
        "if tentativas == tentativas_max:\n",
        "    print(\"Número de tentativas excedido. Redefina a senha 🔒\")\n",
        "    senha_correta = input(\"Digite a nova senha: \")\n",
        "    print(\"Senha redefinida com sucesso! ✅\")\n",
        "    print(\"Fim do programa 🚪\")\n",
        "    print(\"Senha redefinida com sucesso! Agora tente novamente.\")"
      ],
      "metadata": {
        "id": "44-VUPQWDPV3",
        "colab": {
          "base_uri": "https://localhost:8080/"
        },
        "outputId": "77aa6cb7-fe4b-4d6d-fc4b-bcac6e34da4c"
      },
      "execution_count": 48,
      "outputs": [
        {
          "output_type": "stream",
          "name": "stdout",
          "text": [
            "Digite a senha: python\n",
            "Acesso permitido ✅\n"
          ]
        }
      ]
    },
    {
      "cell_type": "code",
      "source": [
        "# 4) Função de saudação\n",
        "\n",
        "# Crie uma função chamada saudacao() que pede o nome do usuário e depois imprime \"Bem-vindo, <nome>!\".\n",
        "\n",
        "# Depois chame a função para testar.\n",
        "\n",
        "\n",
        "# Definindo a função\n",
        "def saudacao():\n",
        "    nome = input(\"Digite seu nome: \")\n",
        "    print(f\"Bem-vindo (a), {nome}!\")\n",
        "\n",
        "# Chamando a função para testar\n",
        "saudacao()"
      ],
      "metadata": {
        "id": "Oui0l_24Tt69",
        "colab": {
          "base_uri": "https://localhost:8080/"
        },
        "outputId": "d1d92847-d707-45d1-be45-a4c04132eff6"
      },
      "execution_count": 50,
      "outputs": [
        {
          "output_type": "stream",
          "name": "stdout",
          "text": [
            "Digite seu nome: Aline\n",
            "Bem-vindo (a), Aline!\n"
          ]
        }
      ]
    },
    {
      "cell_type": "code",
      "source": [
        "# 5.Menu simples em loop\n",
        "\n",
        "# Faça um código que mostre o seguinte menu até o usuário digitar \"0\": 1 - Dizer Olá 2 - Dizer Tchau 0 - Sair\n",
        "\n",
        "\n",
        "# Se escolher 1, mostre \"Olá!\".\n",
        "# Se escolher 2, mostre \"Tchau!\".\n",
        "# Se escolher 0, encerre o programa mostrando \"Fim\".\n",
        "\n",
        "while True:\n",
        "    print(\"\\n--- Menu ---\")\n",
        "    print(\"1 - Dizer Olá\")\n",
        "    print(\"2 - Dizer Tchau\")\n",
        "    print(\"0 - Sair\")\n",
        "\n",
        "    opcao = input(\"Escolha uma opção: \")\n",
        "\n",
        "    if opcao == \"1\":\n",
        "        print(\"Olá! 👋\")\n",
        "    elif opcao == \"2\":\n",
        "        print(\"Tchau! 👋\")\n",
        "    elif opcao == \"0\":\n",
        "        print(\"Fim 🚪\")\n",
        "        break\n",
        "    else:\n",
        "        print(\"Opção inválida. Tente novamente.\")"
      ],
      "metadata": {
        "id": "OrETOODHTzgv",
        "colab": {
          "base_uri": "https://localhost:8080/"
        },
        "outputId": "1bff29aa-b126-4a58-95aa-288828356991"
      },
      "execution_count": 51,
      "outputs": [
        {
          "output_type": "stream",
          "name": "stdout",
          "text": [
            "\n",
            "--- Menu ---\n",
            "1 - Dizer Olá\n",
            "2 - Dizer Tchau\n",
            "0 - Sair\n",
            "Escolha uma opção: 1\n",
            "Olá! 👋\n",
            "\n",
            "--- Menu ---\n",
            "1 - Dizer Olá\n",
            "2 - Dizer Tchau\n",
            "0 - Sair\n",
            "Escolha uma opção: 1\n",
            "Olá! 👋\n",
            "\n",
            "--- Menu ---\n",
            "1 - Dizer Olá\n",
            "2 - Dizer Tchau\n",
            "0 - Sair\n",
            "Escolha uma opção: 0\n",
            "Fim 🚪\n"
          ]
        }
      ]
    }
  ]
}