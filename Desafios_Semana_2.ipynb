{
  "nbformat": 4,
  "nbformat_minor": 0,
  "metadata": {
    "colab": {
      "provenance": [],
      "include_colab_link": true
    },
    "kernelspec": {
      "name": "python3",
      "display_name": "Python 3"
    },
    "language_info": {
      "name": "python"
    }
  },
  "cells": [
    {
      "cell_type": "markdown",
      "metadata": {
        "id": "view-in-github",
        "colab_type": "text"
      },
      "source": [
        "<a href=\"https://colab.research.google.com/github/alinejbarbosa-web/DataGirls-e-LINUXtips/blob/main/Desafios_Semana_2.ipynb\" target=\"_parent\"><img src=\"https://colab.research.google.com/assets/colab-badge.svg\" alt=\"Open In Colab\"/></a>"
      ]
    },
    {
      "cell_type": "markdown",
      "source": [
        "Vamos começar corrigindo os erros abaixo. Faça os 10 códigos abaixo funcionarem"
      ],
      "metadata": {
        "id": "iWLuUCSoRet6"
      }
    },
    {
      "cell_type": "code",
      "source": [
        "numero_1=\"1\"\n",
        "\n",
        "numero_2=\"00\"\n",
        "\n",
        "valor_total=numero_1 + numero_2\n",
        "\n",
        "print(valor_total)"
      ],
      "metadata": {
        "id": "uNlV9O7wTaUm"
      },
      "execution_count": null,
      "outputs": []
    },
    {
      "cell_type": "code",
      "source": [
        "coordenadas_tupla=(10.5, 11, 14)\n",
        "print(coordenadas_tupla)\n",
        "print(coordenadas_tupla[2])\n",
        "coordenadas_lista=[10.5, 11, 14]\n",
        "print(coordenadas_lista)\n",
        "coordenadas_lista.append=[1]\n",
        "print(coordenadas_lista)"
      ],
      "metadata": {
        "id": "aSP6zWkcU0yI"
      },
      "execution_count": null,
      "outputs": []
    },
    {
      "cell_type": "code",
      "execution_count": null,
      "metadata": {
        "id": "nXk3KKk0RVGb"
      },
      "outputs": [],
      "source": [
        "#1\n",
        "nome = \"Kati\"\n",
        "print(nome)"
      ]
    },
    {
      "cell_type": "code",
      "source": [
        "#2\n",
        "\n",
        "print (\"Olá mundo\")"
      ],
      "metadata": {
        "id": "BOXSfoRrRqca"
      },
      "execution_count": null,
      "outputs": []
    },
    {
      "cell_type": "code",
      "source": [
        "#3\n",
        "\n",
        "idade = \"27\"\n",
        "print(\"Minha idade é \" + idade)"
      ],
      "metadata": {
        "id": "enkXUdWORtAr"
      },
      "execution_count": null,
      "outputs": []
    },
    {
      "cell_type": "code",
      "source": [
        "#4\n",
        "\n",
        "if 5 > 2:\n",
        "    print(\"Cinco é maior que dois\")"
      ],
      "metadata": {
        "id": "pFmVMA4eRv6W"
      },
      "execution_count": null,
      "outputs": []
    },
    {
      "cell_type": "code",
      "source": [
        "#5\n",
        "\n",
        "\n",
        "frutas = [\"maçã\", \"banana\", \"uva\"]\n",
        "print(frutas[2])"
      ],
      "metadata": {
        "id": "IgY8i0URRzik"
      },
      "execution_count": null,
      "outputs": []
    },
    {
      "cell_type": "code",
      "source": [
        "#6\n",
        "\n",
        "list = [1, 2, 3]\n",
        "print(list[2])"
      ],
      "metadata": {
        "id": "f5wQvNYgR3LM"
      },
      "execution_count": null,
      "outputs": []
    },
    {
      "cell_type": "code",
      "source": [
        "#7\n",
        "nome= input(\"Digite seu nome: \")\n",
        "print(\"Seu nome é: \" + nome)"
      ],
      "metadata": {
        "id": "5jV9h3Z6R4-C"
      },
      "execution_count": null,
      "outputs": []
    },
    {
      "cell_type": "code",
      "source": [
        "#8\n",
        "\n",
        "if 10 > 5:\n",
        "  print(\"Dez é maior\")"
      ],
      "metadata": {
        "id": "MHlacdJDSCRm"
      },
      "execution_count": null,
      "outputs": []
    },
    {
      "cell_type": "code",
      "source": [
        "#9\n",
        "\n",
        "meu_nome = \"Simara\"\n",
        "print('meunome é', meu_nome)"
      ],
      "metadata": {
        "id": "HBclNWEySF2H"
      },
      "execution_count": null,
      "outputs": []
    },
    {
      "cell_type": "code",
      "source": [
        "#10\n",
        "\n",
        "print('Olá mundo')"
      ],
      "metadata": {
        "id": "Zmv7-ncrSKMp"
      },
      "execution_count": null,
      "outputs": []
    },
    {
      "cell_type": "markdown",
      "source": [
        "Agora é hora de codar! Pronta para escrever seus primeiros códigos?"
      ],
      "metadata": {
        "id": "DwDWk8gKSNXg"
      }
    },
    {
      "cell_type": "code",
      "source": [
        "# 1. Escreva um programa que mostre na tela a mensagem: Olá mundo, estou aprendendo Python!\n",
        "print('Olá mundo, estou aprendendo Python!')"
      ],
      "metadata": {
        "id": "XCka5SW6SSiM"
      },
      "execution_count": null,
      "outputs": []
    },
    {
      "cell_type": "code",
      "source": [
        "# 2. Crie uma variável chamada nome e faça o programa mostrar: Olá <nome>\n",
        "name = 'Lilian'\n",
        "print('Olá, ', name)"
      ],
      "metadata": {
        "id": "14svT4FuSaKx"
      },
      "execution_count": null,
      "outputs": []
    },
    {
      "cell_type": "code",
      "source": [
        "# 3. Peça ao usuário para digitar seu nome (input) e depois mostre uma mensagem de boas-vindas.\n",
        "n"
      ],
      "metadata": {
        "id": "aZYML53WShTV"
      },
      "execution_count": null,
      "outputs": []
    },
    {
      "cell_type": "code",
      "source": [],
      "metadata": {
        "id": "_N_-bRjxSlOI"
      },
      "execution_count": null,
      "outputs": []
    },
    {
      "cell_type": "code",
      "source": [
        "# 5. Crie uma lista com 3 frutas e mostre apenas a primeira fruta.\n",
        "\n"
      ],
      "metadata": {
        "id": "nb26XAT2Sok0"
      },
      "execution_count": null,
      "outputs": []
    },
    {
      "cell_type": "code",
      "source": [
        "# 6. Escreva um código que verifique se um número guardado em uma variável é maior que 10. Se for, mostre “Maior que 10”, senão mostre “10 ou menor”.\n"
      ],
      "metadata": {
        "id": "zZm0cxQwSrbK"
      },
      "execution_count": null,
      "outputs": []
    },
    {
      "cell_type": "code",
      "source": [
        "# 7. Crie um laço for que mostre os números de 1 até 5.\n",
        "\n"
      ],
      "metadata": {
        "id": "kNRtlloSSuZA"
      },
      "execution_count": null,
      "outputs": []
    },
    {
      "cell_type": "code",
      "source": [
        "# 8. Crie uma função chamada saudacao que mostre uma mensagem de saudação que você preferir\n"
      ],
      "metadata": {
        "id": "8UEgzCCESw6A"
      },
      "execution_count": null,
      "outputs": []
    },
    {
      "cell_type": "code",
      "source": [
        "# 9. Crie um programa que peça ao usuário para digitar sua idade e mostre na tela:\n",
        "\n"
      ],
      "metadata": {
        "id": "lMxhozkmS28o"
      },
      "execution_count": null,
      "outputs": []
    },
    {
      "cell_type": "code",
      "source": [
        "# 10. Crie uma lista com 5 números e use um for para mostrar cada número da lista na tela.\n"
      ],
      "metadata": {
        "id": "qTuptXJ_S8EK"
      },
      "execution_count": null,
      "outputs": []
    },
    {
      "cell_type": "markdown",
      "source": [
        "Vamos complicar um pouquinho?"
      ],
      "metadata": {
        "id": "yycZtMrTTApe"
      }
    },
    {
      "cell_type": "code",
      "source": [
        "# 1. Saudação personalizada várias vezes . Peça o nome do usuário e depois mostre a saudação \"Olá, <nome>!\" 3 vezes, usando um for.\n",
        "\n"
      ],
      "metadata": {
        "id": "8OjOIONITEXt"
      },
      "execution_count": null,
      "outputs": []
    },
    {
      "cell_type": "code",
      "source": [
        "# 2. Contagem com mensagens. Mostre os números de 1 a 5 em sequência, mas junto de uma mensagem, por exemplo:for i in range(1, 6):\n"
      ],
      "metadata": {
        "id": "vSQRRooYTbG2"
      },
      "execution_count": null,
      "outputs": []
    },
    {
      "cell_type": "markdown",
      "source": [
        "for i in range(1, 6):\n",
        "    print(f\"Contando... Agora estamos no número {i}\")"
      ],
      "metadata": {
        "id": "9hubGA2rY5xJ"
      }
    },
    {
      "cell_type": "code",
      "source": [
        "# 3.Perguntar senha com tentativas. Crie um código que peça ao usuário uma senha.\n",
        "\n",
        "# Se ele acertar (por exemplo, a senha é \"python\"), mostre \"Acesso permitido\".\n",
        "\n",
        "# Se errar, mostre \"Tente novamente\".\n",
        "\n",
        "# Repita até acertar."
      ],
      "metadata": {
        "id": "T1yTCfRUTinN"
      },
      "execution_count": null,
      "outputs": []
    },
    {
      "cell_type": "code",
      "source": [
        "# 5.Menu simples em loop\n",
        "\n",
        "# Faça um código que mostre o seguinte menu até o usuário digitar \"0\": 1 - Dizer Olá 2 - Dizer Tchau 0 - Sair\n",
        "\n",
        "\n",
        "# Se escolher 1, mostre \"Olá!\".\n",
        "# Se escolher 2, mostre \"Tchau!\".\n",
        "# Se escolher 0, encerre o programa mostrando \"Fim\".\n"
      ],
      "metadata": {
        "id": "OrETOODHTzgv"
      },
      "execution_count": null,
      "outputs": []
    }
  ]
}